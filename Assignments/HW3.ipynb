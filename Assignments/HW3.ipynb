{
 "cells": [
  {
   "cell_type": "code",
   "execution_count": 47,
   "metadata": {},
   "outputs": [
    {
     "data": {
      "text/plain": [
       "{'a': 3, 'b': 2, 'c': 1, 'd': 2}"
      ]
     },
     "execution_count": 47,
     "metadata": {},
     "output_type": "execute_result"
    }
   ],
   "source": [
    "l=[[\"a\",\"b\"],[\"a\",\"c\",\"d\"],[\"a\"],[\"b\",\"d\"]]\n",
    "def counter(*args):\n",
    "    liste=[]\n",
    "    for harf in l:\n",
    "        liste+=harf\n",
    "        dictionary = {i:liste.count(i) for i in liste}\n",
    "    return dictionary     \n",
    "counter(dictionary)\n"
   ]
  },
  {
   "cell_type": "code",
   "execution_count": 51,
   "metadata": {},
   "outputs": [
    {
     "data": {
      "text/plain": [
       "{'a': 2, 'b': 2, 'c': 2}"
      ]
     },
     "execution_count": 51,
     "metadata": {},
     "output_type": "execute_result"
    }
   ],
   "source": [
    "L=[[\"a\",\"b\",\"c\"],\"a\",[\"b\",\"c\"]]\n",
    "def counter(*args):\n",
    "    mylist=[]\n",
    "    for harf in L:\n",
    "        mylist+=harf\n",
    "        my_dict = {i:mylist.count(i) for i in mylist}\n",
    "    return my_dict    \n",
    "counter(my_dict)"
   ]
  }
 ],
 "metadata": {
  "kernelspec": {
   "display_name": "Python 3",
   "language": "python",
   "name": "python3"
  },
  "language_info": {
   "codemirror_mode": {
    "name": "ipython",
    "version": 3
   },
   "file_extension": ".py",
   "mimetype": "text/x-python",
   "name": "python",
   "nbconvert_exporter": "python",
   "pygments_lexer": "ipython3",
   "version": "3.8.3"
  }
 },
 "nbformat": 4,
 "nbformat_minor": 4
}
